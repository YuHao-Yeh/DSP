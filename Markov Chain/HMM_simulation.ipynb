{
 "cells": [
  {
   "cell_type": "markdown",
   "metadata": {},
   "source": [
    "# HMM Simulation"
   ]
  },
  {
   "cell_type": "code",
   "execution_count": 1,
   "metadata": {},
   "outputs": [],
   "source": [
    "import numpy as np"
   ]
  },
  {
   "cell_type": "markdown",
   "metadata": {},
   "source": [
    "> <p>Code:</p>\n",
    "> <pre>\n",
    ">   Burger : 0,\n",
    ">   Pizza : 1,\n",
    ">   Hotdog : 2\n",
    "> </pre>"
   ]
  },
  {
   "cell_type": "code",
   "execution_count": 3,
   "metadata": {},
   "outputs": [
    {
     "data": {
      "text/plain": [
       "{0: 'Burger', 1: 'Pizza', 2: 'Hotdog'}"
      ]
     },
     "execution_count": 3,
     "metadata": {},
     "output_type": "execute_result"
    }
   ],
   "source": [
    "state = {\n",
    "    0 : \"Burger\",\n",
    "    1 : \"Pizza\",\n",
    "    2 : \"Hotdog\"\n",
    "}\n",
    "state"
   ]
  },
  {
   "cell_type": "markdown",
   "metadata": {},
   "source": [
    "### Transition Matrix\n",
    "A_ij = P(X_n = j | X_n-1 = i)"
   ]
  },
  {
   "cell_type": "code",
   "execution_count": 4,
   "metadata": {},
   "outputs": [
    {
     "data": {
      "text/plain": [
       "array([[0.2, 0.6, 0.2],\n",
       "       [0.3, 0. , 0.7],\n",
       "       [0.5, 0. , 0.5]])"
      ]
     },
     "execution_count": 4,
     "metadata": {},
     "output_type": "execute_result"
    }
   ],
   "source": [
    "A = np.array([[0.2, 0.6, 0.2], [0.3, 0.0, 0.7], [0.5, 0.0, 0.5]])\n",
    "A"
   ]
  },
  {
   "cell_type": "markdown",
   "metadata": {},
   "source": [
    "### Random Walk on Markov Chain"
   ]
  },
  {
   "cell_type": "code",
   "execution_count": 5,
   "metadata": {},
   "outputs": [
    {
     "name": "stdout",
     "output_type": "stream",
     "text": [
      "Burger ---> Pizza ---> Hotdog ---> Burger ---> Pizza ---> Hotdog ---> Hotdog ---> Burger ---> Hotdog ---> Hotdog ---> Hotdog ---> Hotdog ---> Hotdog ---> Burger ---> Pizza ---> stop\n"
     ]
    }
   ],
   "source": [
    "n = 15\n",
    "start_state = 0\n",
    "print(state[start_state], \"--->\", end=\" \")\n",
    "prev_state = start_state\n",
    "\n",
    "while n-1:\n",
    "   curr_state = np.random.choice([0, 1, 2], p=A[prev_state])\n",
    "   print(state[curr_state], \"--->\", end=\" \")\n",
    "   prev_state = curr_state\n",
    "   n -= 1\n",
    "print(\"stop\")"
   ]
  },
  {
   "cell_type": "markdown",
   "metadata": {},
   "source": [
    "### Find Transient State\n",
    "\n",
    "Here are three methods to find transient state probibility."
   ]
  },
  {
   "cell_type": "markdown",
   "metadata": {},
   "source": [
    "### Approach 1 : Monte Carlo"
   ]
  },
  {
   "cell_type": "code",
   "execution_count": 6,
   "metadata": {},
   "outputs": [
    {
     "name": "stdout",
     "output_type": "stream",
     "text": [
      "π =  [0.352042 0.211081 0.436878]\n"
     ]
    }
   ],
   "source": [
    "steps = 10**6\n",
    "start_state = 0\n",
    "curr_state = start_state\n",
    "pi = np.array([0, 0, 0])\n",
    "pi[start_state] = 1\n",
    "\n",
    "i = 0\n",
    "while i<steps:\n",
    "    curr_state = np.random.choice([0,1,2], p=A[curr_state])\n",
    "    pi[curr_state]+=1\n",
    "    i +=1\n",
    "\n",
    "print(\"π = \", pi/steps)"
   ]
  },
  {
   "cell_type": "markdown",
   "metadata": {},
   "source": [
    "### Approach 2 : Repeated Matrix Multiplication"
   ]
  },
  {
   "cell_type": "code",
   "execution_count": 7,
   "metadata": {},
   "outputs": [
    {
     "name": "stdout",
     "output_type": "stream",
     "text": [
      "A^n = \n",
      " [[0.35211268 0.21126761 0.43661972]\n",
      " [0.35211268 0.21126761 0.43661972]\n",
      " [0.35211268 0.21126761 0.43661972]] \n",
      "\n",
      "π =  [0.35211268 0.21126761 0.43661972]\n"
     ]
    }
   ],
   "source": [
    "steps = 10**3\n",
    "A_n = A\n",
    "\n",
    "i=0\n",
    "while i<steps:\n",
    "    A_n =  np.matmul(A_n, A)\n",
    "    i+=1\n",
    "\n",
    "print(\"A^n = \\n\", A_n, \"\\n\")\n",
    "print(\"π = \", A_n[0])"
   ]
  },
  {
   "cell_type": "markdown",
   "metadata": {},
   "source": [
    "### Approach 3 : Finding Left Eigen Vectors\n",
    "\n",
    "Just need to find the solution of $\\pi \\cdot \\mathbb{A} = \\pi$."
   ]
  },
  {
   "cell_type": "code",
   "execution_count": 8,
   "metadata": {},
   "outputs": [
    {
     "name": "stdout",
     "output_type": "stream",
     "text": [
      "left eigen vectors = \n",
      " [[-0.58746336+0.j         -0.16984156-0.35355339j -0.16984156+0.35355339j]\n",
      " [-0.35247801+0.j          0.67936622+0.j          0.67936622-0.j        ]\n",
      " [-0.72845456+0.j         -0.50952467+0.35355339j -0.50952467-0.35355339j]] \n",
      "\n",
      "eigen values = \n",
      " [ 1.  +0.j        -0.15+0.3122499j -0.15-0.3122499j]\n"
     ]
    }
   ],
   "source": [
    "import scipy.linalg\n",
    "values, left = scipy.linalg.eig(A, right = False, left = True)\n",
    "\n",
    "print(\"left eigen vectors = \\n\", left, \"\\n\")\n",
    "print(\"eigen values = \\n\", values)"
   ]
  },
  {
   "cell_type": "code",
   "execution_count": 9,
   "metadata": {},
   "outputs": [
    {
     "data": {
      "text/plain": [
       "[0.3521126760563379, 0.21126760563380292, 0.43661971830985913]"
      ]
     },
     "execution_count": 9,
     "metadata": {},
     "output_type": "execute_result"
    }
   ],
   "source": [
    "pi = left[:,0]\n",
    "pi_normalized = [(x/np.sum(pi)).real for x in pi]\n",
    "pi_normalized"
   ]
  },
  {
   "cell_type": "markdown",
   "metadata": {},
   "source": [
    "### Exercise of finding P(Pizza --> Hotdog --> Hotdog --> Burger) = ?\n",
    "=> P(X_0 = Pizza, X_1 = Hotdog, X_2 = Hotdog, X_3 = Burger)\n",
    "\n",
    "=> P(X_0 = Pizza) P(X_1 = Hotdog | X_0 = Pizza) P(X_2 = Hotdog | X_1 = Hotdog) P(X_3 = Burger | X_2 = Hotdog)"
   ]
  },
  {
   "cell_type": "code",
   "execution_count": 10,
   "metadata": {},
   "outputs": [
    {
     "name": "stdout",
     "output_type": "stream",
     "text": [
      "0.036971830985915506\n"
     ]
    }
   ],
   "source": [
    "def find_prob(seq, A, pi):\n",
    "   start_state = seq[0]\n",
    "   prob = pi[start_state]\n",
    "   prev_state, curr_state = start_state, start_state\n",
    "   for i in range(1, len(seq)):\n",
    "      curr_state = seq[i]\n",
    "      prob *= A[prev_state][curr_state]\n",
    "      prev_state = curr_state\n",
    "   return prob\n",
    "\n",
    "print(find_prob([1, 2, 2, 0], A, pi_normalized))"
   ]
  }
 ],
 "metadata": {
  "kernelspec": {
   "display_name": "Python 3.10.0 64-bit",
   "language": "python",
   "name": "python3"
  },
  "language_info": {
   "codemirror_mode": {
    "name": "ipython",
    "version": 3
   },
   "file_extension": ".py",
   "mimetype": "text/x-python",
   "name": "python",
   "nbconvert_exporter": "python",
   "pygments_lexer": "ipython3",
   "version": "3.10.0"
  },
  "orig_nbformat": 4,
  "vscode": {
   "interpreter": {
    "hash": "369f2c481f4da34e4445cda3fffd2e751bd1c4d706f27375911949ba6bb62e1c"
   }
  }
 },
 "nbformat": 4,
 "nbformat_minor": 2
}
